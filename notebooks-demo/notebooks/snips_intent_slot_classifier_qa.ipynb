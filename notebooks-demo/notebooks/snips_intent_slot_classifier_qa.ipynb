{
 "cells": [
  {
   "cell_type": "code",
   "execution_count": 1,
   "id": "00b8f748",
   "metadata": {},
   "outputs": [],
   "source": [
    "from datasets import load_dataset\n",
    "\n",
    "dataset = load_dataset(\"bkonkle/snips-joint-intent\")"
   ]
  },
  {
   "cell_type": "code",
   "execution_count": 2,
   "id": "f9ddb26e",
   "metadata": {},
   "outputs": [
    {
     "data": {
      "text/plain": [
       "DatasetDict({\n",
       "    train: Dataset({\n",
       "        features: ['input', 'intent', 'slots'],\n",
       "        num_rows: 13084\n",
       "    })\n",
       "    test: Dataset({\n",
       "        features: ['input', 'intent', 'slots'],\n",
       "        num_rows: 700\n",
       "    })\n",
       "})"
      ]
     },
     "execution_count": 2,
     "metadata": {},
     "output_type": "execute_result"
    }
   ],
   "source": [
    "dataset"
   ]
  },
  {
   "cell_type": "code",
   "execution_count": 3,
   "id": "3384ab70",
   "metadata": {},
   "outputs": [
    {
     "data": {
      "text/plain": [
       "{'input': 'listen to westbam alumb allergic on google music',\n",
       " 'intent': 'PlayMusic',\n",
       " 'slots': 'O O B-artist O B-album O B-service I-service'}"
      ]
     },
     "execution_count": 3,
     "metadata": {},
     "output_type": "execute_result"
    }
   ],
   "source": [
    "dataset[\"train\"][0]"
   ]
  },
  {
   "cell_type": "code",
   "execution_count": 4,
   "id": "d1dbc92b",
   "metadata": {},
   "outputs": [],
   "source": [
    "train_data = dataset[\"train\"]\n",
    "\n",
    "# Get list of intents and slots\n",
    "true_intents = [x[\"intent\"] for x in train_data]\n",
    "true_slots = [x[\"slots\"].split() for x in train_data] "
   ]
  },
  {
   "cell_type": "code",
   "execution_count": 5,
   "id": "1f3d08d7",
   "metadata": {},
   "outputs": [],
   "source": [
    "import random\n",
    "\n",
    "# Intent prediction: 80% correct\n",
    "pred_intents = [\n",
    "    intent if random.random() > 0.2 else \"OtherIntent\"\n",
    "    for intent in true_intents\n",
    "]\n",
    "\n",
    "# Slot prediction: 70% correct BIO tags per sentence\n",
    "pred_slots = []\n",
    "for gold in true_slots:\n",
    "    pred = [\n",
    "        tag if random.random() > 0.3 else \"O\"  # remove some tags\n",
    "        for tag in gold\n",
    "    ]\n",
    "    pred_slots.append(pred)\n"
   ]
  },
  {
   "cell_type": "code",
   "execution_count": 6,
   "id": "9630c26d",
   "metadata": {},
   "outputs": [
    {
     "name": "stdout",
     "output_type": "stream",
     "text": [
      "Intent Classification Report:\n",
      "\n",
      "                      precision    recall  f1-score   support\n",
      "\n",
      "       AddToPlaylist       1.00      0.79      0.88      1818\n",
      "      BookRestaurant       1.00      0.80      0.89      1881\n",
      "          GetWeather       1.00      0.80      0.89      1896\n",
      "         OtherIntent       0.00      0.00      0.00         0\n",
      "           PlayMusic       1.00      0.79      0.89      1914\n",
      "            RateBook       1.00      0.79      0.88      1876\n",
      "  SearchCreativeWork       1.00      0.81      0.89      1847\n",
      "SearchScreeningEvent       1.00      0.81      0.89      1852\n",
      "\n",
      "            accuracy                           0.80     13084\n",
      "           macro avg       0.88      0.70      0.78     13084\n",
      "        weighted avg       1.00      0.80      0.89     13084\n",
      "\n"
     ]
    }
   ],
   "source": [
    "from sklearn.metrics import classification_report\n",
    "\n",
    "print(\"Intent Classification Report:\\n\")\n",
    "print(classification_report(true_intents, pred_intents, zero_division=0))\n"
   ]
  },
  {
   "cell_type": "code",
   "execution_count": 7,
   "id": "d4c160a5",
   "metadata": {},
   "outputs": [],
   "source": [
    "def token_level_slot_metrics(y_true, y_pred):\n",
    "    tp = fp = fn = 0\n",
    "    for true_seq, pred_seq in zip(y_true, y_pred):\n",
    "        for t, p in zip(true_seq, pred_seq):\n",
    "            if t == p and t != \"O\":\n",
    "                tp += 1\n",
    "            elif t != p:\n",
    "                if p != \"O\":\n",
    "                    fp += 1\n",
    "                if t != \"O\":\n",
    "                    fn += 1\n",
    "    precision = tp / (tp + fp) if (tp + fp) else 0\n",
    "    recall = tp / (tp + fn) if (tp + fn) else 0\n",
    "    f1 = 2 * precision * recall / (precision + recall) if (precision + recall) else 0\n",
    "    return precision, recall, f1\n"
   ]
  },
  {
   "cell_type": "code",
   "execution_count": 8,
   "id": "cb5be998",
   "metadata": {},
   "outputs": [
    {
     "name": "stdout",
     "output_type": "stream",
     "text": [
      "\n",
      "Slot Labeling Metrics:\n",
      "Precision: 1.00, Recall: 0.70, F1: 0.82\n"
     ]
    }
   ],
   "source": [
    "p, r, f1 = token_level_slot_metrics(true_slots, pred_slots)\n",
    "print(f\"\\nSlot Labeling Metrics:\\nPrecision: {p:.2f}, Recall: {r:.2f}, F1: {f1:.2f}\")\n"
   ]
  }
 ],
 "metadata": {
  "kernelspec": {
   "display_name": ".venv",
   "language": "python",
   "name": "python3"
  },
  "language_info": {
   "codemirror_mode": {
    "name": "ipython",
    "version": 3
   },
   "file_extension": ".py",
   "mimetype": "text/x-python",
   "name": "python",
   "nbconvert_exporter": "python",
   "pygments_lexer": "ipython3",
   "version": "3.12.2"
  }
 },
 "nbformat": 4,
 "nbformat_minor": 5
}
