{
 "cells": [
  {
   "cell_type": "markdown",
   "id": "5ffbf33f",
   "metadata": {},
   "source": [
    "### k-Fold Cross Validation\n",
    "Split dataset into k parts (folds)\n",
    "\n",
    "Train on k-1, test on 1\n",
    "\n",
    "Repeat k times with different test folds\n",
    "\n",
    "Example: 5-Fold CV\n",
    "→ Train on 4 folds, test on 1 → Repeat 5 times"
   ]
  },
  {
   "cell_type": "code",
   "execution_count": null,
   "id": "66207116",
   "metadata": {},
   "outputs": [],
   "source": [
    "from sklearn.datasets import load_iris\n",
    "from sklearn.ensemble import RandomForestClassifier\n",
    "from sklearn.model_selection import cross_val_score\n",
    "\n",
    "# Load sample classification dataset\n",
    "X, y = load_iris(return_X_y=True)\n",
    "model = RandomForestClassifier()\n",
    "\n",
    "# List of metrics we want to evaluate\n",
    "metrics = [\"accuracy\", \"precision_macro\", \"recall_macro\", \"f1_macro\"]\n",
    "\n",
    "# Loop over metrics and compute cross-validation scores\n",
    "for metric in metrics:\n",
    "    scores = cross_val_score(model, X, y, cv=5, scoring=metric)\n",
    "    print(f\"\\n🔹 Metric: {metric}\")\n",
    "    print(f\"Fold Scores: {scores}\")\n",
    "    print(f\"Mean: {scores.mean():.4f}, Std Dev: {scores.std():.4f}\")\n"
   ]
  },
  {
   "cell_type": "code",
   "execution_count": null,
   "id": "83c05733",
   "metadata": {},
   "outputs": [],
   "source": [
    "from sklearn.datasets import load_iris\n",
    "from sklearn.ensemble import RandomForestClassifier\n",
    "from sklearn.model_selection import cross_val_score, train_test_split\n",
    "\n",
    "# Load example dataset\n",
    "X, y = load_iris(return_X_y=True)\n",
    "X_train, X_test, y_train, y_test = train_test_split(X, y, test_size=0.2)\n",
    "\n",
    "model = RandomForestClassifier()\n",
    "\n",
    "# Cross-validation check\n",
    "cv_scores = cross_val_score(model, X_train, y_train, cv=5)\n",
    "print(\"CV scores:\", cv_scores)\n",
    "\n",
    "# Overfitting check\n",
    "model.fit(X_train, y_train)\n",
    "train_acc = model.score(X_train, y_train)\n",
    "test_acc = model.score(X_test, y_test)\n",
    "print(f\"Train acc: {train_acc:.2f}, Test acc: {test_acc:.2f}\")\n",
    "\n",
    "if abs(train_acc - test_acc) > 0.15:\n",
    "    print(\"Overfitting Detected\")\n",
    "else:\n",
    "    print(\"No major overfitting\")\n"
   ]
  },
  {
   "cell_type": "markdown",
   "id": "6d099305",
   "metadata": {},
   "source": [
    "### Data Leakage Detection (Manual Feature Audit)"
   ]
  },
  {
   "cell_type": "code",
   "execution_count": null,
   "id": "3533cfea",
   "metadata": {},
   "outputs": [],
   "source": [
    "import pandas as pd\n",
    "import numpy as np\n",
    "\n",
    "# Simulate leaky data\n",
    "df = pd.DataFrame({\n",
    "    \"age\": [30, 45, 25, 60],\n",
    "    \"blood_pressure\": [120, 130, 110, 140],\n",
    "    \"diagnosis\": [0, 1, 0, 1]\n",
    "})\n",
    "df[\"leaky_feature\"] = df[\"diagnosis\"] * 10  # 🚨 Simulated leakage\n",
    "\n",
    "# Detect leakage by checking correlation with target\n",
    "correlations = df.corr(numeric_only=True)\n",
    "print(correlations[\"diagnosis\"].sort_values(ascending=False))\n",
    "\n",
    "if any(abs(correlations[\"diagnosis\"]) > 0.95):\n",
    "    print(\"Potential leakage detected (very high correlation)\")\n"
   ]
  },
  {
   "cell_type": "markdown",
   "id": "f751b849",
   "metadata": {},
   "source": [
    "### Drift Detection with KS-Test (Data Drift)"
   ]
  },
  {
   "cell_type": "code",
   "execution_count": null,
   "id": "7e32a1a8",
   "metadata": {},
   "outputs": [],
   "source": [
    "from scipy.stats import ks_2samp\n",
    "\n",
    "# Simulated old (train) and new (live) data\n",
    "train_feature = [1, 2, 2, 3, 4, 4, 5]\n",
    "live_feature = [6, 6, 7, 8, 8, 9, 9]\n",
    "\n",
    "# KS-test for distribution change\n",
    "stat, p_value = ks_2samp(train_feature, live_feature)\n",
    "print(\"KS p-value:\", p_value)\n",
    "\n",
    "if p_value < 0.05:\n",
    "    print(\"Drift detected\")\n",
    "else:\n",
    "    print(\"No significant drift\")\n"
   ]
  },
  {
   "cell_type": "markdown",
   "id": "2f66a28c",
   "metadata": {},
   "source": [
    "### Regression vs Classification Evaluation"
   ]
  },
  {
   "cell_type": "code",
   "execution_count": null,
   "id": "0b2b8b02",
   "metadata": {},
   "outputs": [],
   "source": [
    "from sklearn.metrics import classification_report\n",
    "from sklearn.linear_model import LogisticRegression\n",
    "\n",
    "model = LogisticRegression(max_iter=1000)\n",
    "model.fit(X_train, y_train)\n",
    "y_pred = model.predict(X_test)\n",
    "\n",
    "print(classification_report(y_test, y_pred))\n"
   ]
  },
  {
   "cell_type": "markdown",
   "id": "a2415777",
   "metadata": {},
   "source": [
    "### Regression (MAE, R²)"
   ]
  },
  {
   "cell_type": "code",
   "execution_count": null,
   "id": "8ec96a31",
   "metadata": {},
   "outputs": [],
   "source": [
    "from sklearn.linear_model import LinearRegression\n",
    "from sklearn.metrics import mean_absolute_error, r2_score\n",
    "\n",
    "# Regression example\n",
    "X = np.random.rand(100, 1) * 10\n",
    "y = 3 * X.squeeze() + np.random.randn(100)\n",
    "\n",
    "X_train, X_test, y_train, y_test = train_test_split(X, y, test_size=0.2)\n",
    "reg_model = LinearRegression().fit(X_train, y_train)\n",
    "y_pred = reg_model.predict(X_test)\n",
    "\n",
    "print(\"MAE:\", mean_absolute_error(y_test, y_pred))\n",
    "print(\"R2 Score:\", r2_score(y_test, y_pred))\n"
   ]
  },
  {
   "cell_type": "markdown",
   "id": "dcf45f66",
   "metadata": {},
   "source": [
    "### Latency Monitoring for GenAI"
   ]
  },
  {
   "cell_type": "code",
   "execution_count": null,
   "id": "bff72dc1",
   "metadata": {},
   "outputs": [],
   "source": [
    "import time\n",
    "\n",
    "def fake_genai_call(prompt):\n",
    "    time.sleep(0.9)  # simulate latency\n",
    "    return \"response\"\n",
    "\n",
    "start = time.time()\n",
    "output = fake_genai_call(\"What is the attention mechanism?\")\n",
    "end = time.time()\n",
    "\n",
    "latency = end - start\n",
    "print(f\"Latency: {latency:.2f} seconds\")\n",
    "\n",
    "if latency > 1.0:\n",
    "    print(\"GenAI call too slow\")\n",
    "else:\n",
    "    print(\"GenAI latency within limit\")\n"
   ]
  },
  {
   "cell_type": "code",
   "execution_count": null,
   "id": "0ca37710",
   "metadata": {},
   "outputs": [],
   "source": [
    "import matplotlib.pyplot as plt\n",
    "from sklearn.datasets import load_iris\n",
    "from sklearn.ensemble import RandomForestClassifier\n",
    "from sklearn.model_selection import cross_val_score\n",
    "\n",
    "# Load dataset\n",
    "X, y = load_iris(return_X_y=True)\n",
    "model = RandomForestClassifier()\n",
    "\n",
    "# Define metrics\n",
    "metrics = [\"accuracy\", \"precision_macro\", \"recall_macro\", \"f1_macro\"]\n",
    "metric_labels = [\"Accuracy\", \"Precision\", \"Recall\", \"F1 Score\"]\n",
    "fold_scores = []\n",
    "\n",
    "# Collect fold scores for each metric\n",
    "for metric in metrics:\n",
    "    scores = cross_val_score(model, X, y, cv=5, scoring=metric)\n",
    "    fold_scores.append(scores)\n",
    "\n",
    "# Transpose for plotting: fold_scores[i][j] → metric i, fold j\n",
    "fold_scores = list(zip(*fold_scores))  # Now: each inner list = metrics for fold j\n",
    "\n",
    "# --- Visualization ---\n",
    "folds = range(1, 6)\n",
    "bar_width = 0.2\n",
    "\n",
    "plt.figure(figsize=(10, 6))\n",
    "for i, metric_name in enumerate(metric_labels):\n",
    "    values = [fold[i] for fold in fold_scores]\n",
    "    plt.bar([f + i*bar_width for f in folds], values, width=bar_width, label=metric_name)\n",
    "\n",
    "plt.xlabel(\"Fold Number\")\n",
    "plt.ylabel(\"Score\")\n",
    "plt.title(\"Cross-Validation Scores Across Folds\")\n",
    "plt.xticks([f + 1.5*bar_width for f in folds], [f\"Fold {i}\" for i in folds])\n",
    "plt.ylim(0.85, 1.05)\n",
    "plt.legend()\n",
    "plt.grid(axis=\"y\", linestyle=\"--\", alpha=0.6)\n",
    "plt.tight_layout()\n",
    "plt.show()\n"
   ]
  },
  {
   "cell_type": "code",
   "execution_count": null,
   "id": "e8a69209",
   "metadata": {},
   "outputs": [],
   "source": [
    "from sklearn.datasets import make_classification\n",
    "from sklearn.model_selection import train_test_split\n",
    "from sklearn.ensemble import RandomForestClassifier\n",
    "from sklearn.metrics import confusion_matrix, classification_report\n",
    "import seaborn as sns\n",
    "import matplotlib.pyplot as plt\n",
    "\n",
    "# Create imbalanced dataset (90% of class 0, 10% of class 1)\n",
    "X, y = make_classification(\n",
    "    n_samples=1000, n_classes=2,\n",
    "    weights=[0.9, 0.1], flip_y=0,\n",
    "    n_features=10, random_state=42\n",
    ")\n",
    "\n",
    "# Split\n",
    "X_train, X_test, y_train, y_test = train_test_split(X, y, stratify=y, test_size=0.3)\n",
    "\n",
    "# Model\n",
    "model = RandomForestClassifier()\n",
    "model.fit(X_train, y_train)\n",
    "y_pred = model.predict(X_test)\n",
    "\n",
    "# Confusion Matrix\n",
    "cm = confusion_matrix(y_test, y_pred)\n",
    "sns.heatmap(cm, annot=True, fmt=\"d\", cmap=\"Blues\", xticklabels=[\"Pred 0\", \"Pred 1\"], yticklabels=[\"True 0\", \"True 1\"])\n",
    "plt.title(\"Confusion Matrix\")\n",
    "plt.xlabel(\"Predicted\")\n",
    "plt.ylabel(\"Actual\")\n",
    "plt.show()\n",
    "\n",
    "# Classification Report\n",
    "print(\"\\n\", classification_report(y_test, y_pred))\n"
   ]
  }
 ],
 "metadata": {
  "kernelspec": {
   "display_name": ".venv",
   "language": "python",
   "name": "python3"
  },
  "language_info": {
   "codemirror_mode": {
    "name": "ipython",
    "version": 3
   },
   "file_extension": ".py",
   "mimetype": "text/x-python",
   "name": "python",
   "nbconvert_exporter": "python",
   "pygments_lexer": "ipython3",
   "version": "3.12.2"
  }
 },
 "nbformat": 4,
 "nbformat_minor": 5
}
