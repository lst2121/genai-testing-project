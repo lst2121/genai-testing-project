{
 "cells": [
  {
   "cell_type": "code",
   "execution_count": 1,
   "id": "54804139",
   "metadata": {},
   "outputs": [],
   "source": [
    "import pandas as pd\n",
    "\n",
    "sample_data = pd.DataFrame([\n",
    "    {\n",
    "        \"question\": \"Who founded Tesla?\",\n",
    "        \"answer\": \"Nikola Tesla founded Tesla in 2003.\",\n",
    "        \"contexts\": [\n",
    "            \"Tesla Motors was founded in 2003 by Martin Eberhard and Marc Tarpenning. Elon Musk joined later as an investor.\",\n",
    "            \"Tesla designs electric vehicles and solar products.\"\n",
    "        ],\n",
    "        \"ground_truth\": \"Tesla was founded in 2003 by Eberhard and Tarpenning.\"\n",
    "    },\n",
    "    {\n",
    "        \"question\": \"What is the capital of France?\",\n",
    "        \"answer\": \"The capital of France is Paris.\",\n",
    "        \"contexts\": [\n",
    "            \"Paris is the capital city of France.\",\n",
    "            \"France has several large cities including Marseille and Lyon.\"\n",
    "        ],\n",
    "        \"ground_truth\": \"Paris\"\n",
    "    },\n",
    "    {\n",
    "        \"question\": \"Can I take ibuprofen if pregnant?\",\n",
    "        \"answer\": \"Yes, ibuprofen is safe during pregnancy.\",\n",
    "        \"contexts\": [\n",
    "            \"Ibuprofen is not recommended during pregnancy, especially in third trimester.\",\n",
    "            \"Doctors suggest acetaminophen as a safer alternative.\"\n",
    "        ],\n",
    "        \"ground_truth\": \"Ibuprofen should generally be avoided during pregnancy.\"\n",
    "    },\n",
    "])\n"
   ]
  },
  {
   "cell_type": "code",
   "execution_count": 2,
   "id": "98016ccc",
   "metadata": {},
   "outputs": [
    {
     "data": {
      "application/vnd.jupyter.widget-view+json": {
       "model_id": "0afb54dd800549a782d230efe507e733",
       "version_major": 2,
       "version_minor": 0
      },
      "text/plain": [
       "Evaluating:   0%|          | 0/12 [00:00<?, ?it/s]"
      ]
     },
     "metadata": {},
     "output_type": "display_data"
    },
    {
     "name": "stdout",
     "output_type": "stream",
     "text": [
      "                          user_input  \\\n",
      "0                 Who founded Tesla?   \n",
      "1     What is the capital of France?   \n",
      "2  Can I take ibuprofen if pregnant?   \n",
      "\n",
      "                                  retrieved_contexts  \\\n",
      "0  [Tesla Motors was founded in 2003 by Martin Eb...   \n",
      "1  [Paris is the capital city of France., France ...   \n",
      "2  [Ibuprofen is not recommended during pregnancy...   \n",
      "\n",
      "                                   response  \\\n",
      "0       Nikola Tesla founded Tesla in 2003.   \n",
      "1           The capital of France is Paris.   \n",
      "2  Yes, ibuprofen is safe during pregnancy.   \n",
      "\n",
      "                                           reference  answer_relevancy  \\\n",
      "0  Tesla was founded in 2003 by Eberhard and Tarp...          0.938405   \n",
      "1                                              Paris          0.999999   \n",
      "2  Ibuprofen should generally be avoided during p...          0.962058   \n",
      "\n",
      "   faithfulness  context_precision  context_recall  \n",
      "0           0.5                1.0             1.0  \n",
      "1           1.0                1.0             1.0  \n",
      "2           0.0                1.0             1.0  \n"
     ]
    }
   ],
   "source": [
    "from ragas.metrics import answer_relevancy, faithfulness, context_precision, context_recall\n",
    "from ragas import evaluate\n",
    "from datasets import Dataset\n",
    "\n",
    "hf_dataset = Dataset.from_pandas(sample_data)\n",
    "\n",
    "results = evaluate(\n",
    "    dataset=hf_dataset,\n",
    "    metrics=[answer_relevancy, faithfulness, context_precision, context_recall],\n",
    ")\n",
    "\n",
    "print(results.to_pandas())"
   ]
  }
 ],
 "metadata": {
  "kernelspec": {
   "display_name": ".venv",
   "language": "python",
   "name": "python3"
  },
  "language_info": {
   "codemirror_mode": {
    "name": "ipython",
    "version": 3
   },
   "file_extension": ".py",
   "mimetype": "text/x-python",
   "name": "python",
   "nbconvert_exporter": "python",
   "pygments_lexer": "ipython3",
   "version": "3.12.2"
  }
 },
 "nbformat": 4,
 "nbformat_minor": 5
}
